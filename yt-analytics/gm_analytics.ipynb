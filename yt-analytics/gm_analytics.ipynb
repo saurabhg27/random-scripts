{
 "cells": [
  {
   "cell_type": "code",
   "execution_count": 1,
   "id": "aa3efb09",
   "metadata": {},
   "outputs": [],
   "source": [
    "import mailbox\n",
    "from tqdm import tqdm, tqdm_notebook\n",
    "import pandas as pd\n",
    "import email\n",
    "import datetime"
   ]
  },
  {
   "cell_type": "code",
   "execution_count": 4,
   "id": "5f03fa27",
   "metadata": {},
   "outputs": [],
   "source": [
    "folder = \"D:\\HousieProject\\ytanalytics\\gmail_Takeout\\Mail\"\n",
    "\n",
    "def read_mobox_initial():\n",
    "    mbox = mailbox.mbox(folder+\"\\All mail Including Spam and Trash.mbox\")\n",
    "\n",
    "    data=[]\n",
    "\n",
    "    print(mbox)\n",
    "    for i, message in enumerate(tqdm(mbox)):\n",
    "#         print(i)\n",
    "        msg_from = message['from']\n",
    "        msg_subj = message['subject']\n",
    "        msg_date = message['Date']\n",
    "#         print(\"from   :\",msg_from)\n",
    "#         print(\"subject:\",msg_subj)\n",
    "        data.append([msg_date,msg_from,msg_subj])\n",
    "#         if i == 10:\n",
    "#             break\n",
    "\n",
    "    df = pd.DataFrame(data)\n",
    "    df.to_csv(folder+'\\mail_out_1.csv',header=False)\n",
    "    \n",
    "# read_mobox_initial()\n",
    "df = pd.read_csv(folder+'\\mail_out_1.csv',header=None,names=['ind','date','from','subj'])\n",
    "# display(df)\n",
    "# df = df[df['date'].notna()]\n",
    "# display(df)\n"
   ]
  },
  {
   "cell_type": "code",
   "execution_count": 5,
   "id": "eccfd2ae",
   "metadata": {},
   "outputs": [
    {
     "name": "stderr",
     "output_type": "stream",
     "text": [
      "C:\\Users\\saura\\AppData\\Local\\Temp/ipykernel_39068/3295460157.py:16: SettingWithCopyWarning: \n",
      "A value is trying to be set on a copy of a slice from a DataFrame.\n",
      "Try using .loc[row_indexer,col_indexer] = value instead\n",
      "\n",
      "See the caveats in the documentation: https://pandas.pydata.org/pandas-docs/stable/user_guide/indexing.html#returning-a-view-versus-a-copy\n",
      "  df['date_par_pd']=pd.to_datetime(df['date_par'])\n"
     ]
    }
   ],
   "source": [
    "def doParse(df):\n",
    "    def parse_date(date_str):\n",
    "        try:\n",
    "            if date_str:\n",
    "                date_tuple=email.utils.parsedate_tz(date_str)\n",
    "                if date_tuple:\n",
    "                    date=datetime.datetime.fromtimestamp(email.utils.mktime_tz(date_tuple))\n",
    "                    return pd.to_datetime(date)\n",
    "        except:\n",
    "            #print(date_str)\n",
    "            return pd.to_datetime(datetime.date.today())\n",
    "\n",
    "\n",
    "    df['date_par'] = df['date'].apply(parse_date)\n",
    "    df = df[['date_par','from','subj']]\n",
    "    df['date_par_pd']=pd.to_datetime(df['date_par'])\n",
    "#     display(df)\n",
    "    sorted_df = df.sort_values(by=['date_par'], ascending=True)\n",
    "    sorted_df.to_csv(folder+'\\mail_out_2.csv',header=False)\n",
    "doParse(df)"
   ]
  }
 ],
 "metadata": {
  "kernelspec": {
   "display_name": "Python 3 (ipykernel)",
   "language": "python",
   "name": "python3"
  },
  "language_info": {
   "codemirror_mode": {
    "name": "ipython",
    "version": 3
   },
   "file_extension": ".py",
   "mimetype": "text/x-python",
   "name": "python",
   "nbconvert_exporter": "python",
   "pygments_lexer": "ipython3",
   "version": "3.8.11"
  }
 },
 "nbformat": 4,
 "nbformat_minor": 5
}
